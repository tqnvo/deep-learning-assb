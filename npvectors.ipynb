{
 "cells": [
  {
   "cell_type": "code",
   "execution_count": 2,
   "metadata": {},
   "outputs": [],
   "source": [
    "import numpy as np\n",
    "\n",
    "# This array is funny because we don't know if it is a row or a column\n",
    "a = np.random.randn(5)"
   ]
  },
  {
   "cell_type": "code",
   "execution_count": 3,
   "metadata": {},
   "outputs": [
    {
     "name": "stdout",
     "output_type": "stream",
     "text": [
      "[-1.08551172  0.40275348  1.0872583   1.52085771 -1.48642024]\n"
     ]
    }
   ],
   "source": [
    "print(a)"
   ]
  },
  {
   "cell_type": "code",
   "execution_count": 5,
   "metadata": {},
   "outputs": [
    {
     "name": "stdout",
     "output_type": "stream",
     "text": [
      "(5,)\n"
     ]
    }
   ],
   "source": [
    "print(a.shape)"
   ]
  },
  {
   "cell_type": "code",
   "execution_count": 6,
   "metadata": {},
   "outputs": [
    {
     "name": "stdout",
     "output_type": "stream",
     "text": [
      "[-1.08551172  0.40275348  1.0872583   1.52085771 -1.48642024]\n"
     ]
    }
   ],
   "source": [
    "print(a.T)"
   ]
  },
  {
   "cell_type": "code",
   "execution_count": 7,
   "metadata": {},
   "outputs": [
    {
     "data": {
      "text/plain": [
       "7.0451300043678735"
      ]
     },
     "execution_count": 7,
     "metadata": {},
     "output_type": "execute_result"
    }
   ],
   "source": [
    "np.dot(a,a.T)"
   ]
  },
  {
   "cell_type": "code",
   "execution_count": 8,
   "metadata": {},
   "outputs": [
    {
     "data": {
      "text/plain": [
       "7.0451300043678735"
      ]
     },
     "execution_count": 8,
     "metadata": {},
     "output_type": "execute_result"
    }
   ],
   "source": [
    "np.dot(a.T,a)"
   ]
  },
  {
   "cell_type": "code",
   "execution_count": 11,
   "metadata": {},
   "outputs": [
    {
     "name": "stdout",
     "output_type": "stream",
     "text": [
      "[-0.49100731  0.80478511  1.9722609  -1.09501573 -2.72275437]\n",
      "[-0.49100731  0.80478511  1.9722609  -1.09501573 -2.72275437]\n"
     ]
    }
   ],
   "source": [
    "b = np.random.randn(5)\n",
    "c = b.T\n",
    "print(b)\n",
    "print(c)"
   ]
  },
  {
   "cell_type": "code",
   "execution_count": 13,
   "metadata": {},
   "outputs": [
    {
     "name": "stdout",
     "output_type": "stream",
     "text": [
      "13.391031125611551\n"
     ]
    }
   ],
   "source": [
    "dotbc = np.dot(b,c)\n",
    "print(dotbc)"
   ]
  },
  {
   "cell_type": "code",
   "execution_count": 15,
   "metadata": {},
   "outputs": [
    {
     "name": "stdout",
     "output_type": "stream",
     "text": [
      "13.391031125611551\n"
     ]
    }
   ],
   "source": [
    "dotcb = np.dot(c,b)\n",
    "print(dotcb)"
   ]
  },
  {
   "cell_type": "code",
   "execution_count": 17,
   "metadata": {},
   "outputs": [
    {
     "name": "stdout",
     "output_type": "stream",
     "text": [
      "[[-0.03036937]\n",
      " [ 0.47586992]\n",
      " [-0.20029718]\n",
      " [-0.93750131]\n",
      " [ 0.00956225]]\n"
     ]
    }
   ],
   "source": [
    "d = np.random.randn(5,1)\n",
    "print(d)"
   ]
  },
  {
   "cell_type": "code",
   "execution_count": 19,
   "metadata": {},
   "outputs": [
    {
     "name": "stdout",
     "output_type": "stream",
     "text": [
      "[[ 0.11826484  1.04188355 -1.13576905  1.94195423 -2.2552323 ]]\n"
     ]
    }
   ],
   "source": [
    "e = np.random.randn(1,5)\n",
    "print(e)"
   ]
  },
  {
   "cell_type": "code",
   "execution_count": 25,
   "metadata": {},
   "outputs": [
    {
     "name": "stdout",
     "output_type": "stream",
     "text": [
      "[[-3.59162898e-03 -3.16413495e-02  3.44925933e-02 -5.89759313e-02\n",
      "   6.84899898e-02]\n",
      " [ 5.62786805e-02  4.95801044e-01 -5.40478332e-01  9.24117612e-01\n",
      "  -1.07319722e+00]\n",
      " [-2.36881142e-02 -2.08686338e-01  2.27491340e-01 -3.88967959e-01\n",
      "   4.51716674e-01]\n",
      " [-1.10873442e-01 -9.76767188e-01  1.06478497e+00 -1.82058463e+00\n",
      "   2.11428323e+00]\n",
      " [ 1.13087812e-03  9.96275233e-03 -1.08605091e-02  1.85694544e-02\n",
      "  -2.15650981e-02]]\n"
     ]
    }
   ],
   "source": [
    "dotde = np.dot(d,e)\n",
    "print(dotde)"
   ]
  },
  {
   "cell_type": "code",
   "execution_count": 26,
   "metadata": {},
   "outputs": [
    {
     "name": "stdout",
     "output_type": "stream",
     "text": [
      "[[-1.12244897]]\n"
     ]
    }
   ],
   "source": [
    "doted = np.dot(e,d)\n",
    "print(doted)"
   ]
  },
  {
   "cell_type": "code",
   "execution_count": null,
   "metadata": {},
   "outputs": [],
   "source": []
  }
 ],
 "metadata": {
  "interpreter": {
   "hash": "916dbcbb3f70747c44a77c7bcd40155683ae19c65e1c03b4aa3499c5328201f1"
  },
  "kernelspec": {
   "display_name": "Python 3.8.10 64-bit",
   "language": "python",
   "name": "python3"
  },
  "language_info": {
   "codemirror_mode": {
    "name": "ipython",
    "version": 3
   },
   "file_extension": ".py",
   "mimetype": "text/x-python",
   "name": "python",
   "nbconvert_exporter": "python",
   "pygments_lexer": "ipython3",
   "version": "3.8.10"
  },
  "orig_nbformat": 4
 },
 "nbformat": 4,
 "nbformat_minor": 2
}
