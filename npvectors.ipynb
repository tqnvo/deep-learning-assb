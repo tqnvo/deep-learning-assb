{
 "cells": [
  {
   "cell_type": "code",
   "execution_count": 2,
   "metadata": {},
   "outputs": [],
   "source": [
    "import numpy as np\n",
    "\n",
    "# This array is funny because we don't know if it is a row or a column\n",
    "a = np.random.randn(5)"
   ]
  },
  {
   "cell_type": "code",
   "execution_count": 3,
   "metadata": {},
   "outputs": [
    {
     "name": "stdout",
     "output_type": "stream",
     "text": [
      "[-1.08551172  0.40275348  1.0872583   1.52085771 -1.48642024]\n"
     ]
    }
   ],
   "source": [
    "print(a)"
   ]
  },
  {
   "cell_type": "code",
   "execution_count": 5,
   "metadata": {},
   "outputs": [
    {
     "name": "stdout",
     "output_type": "stream",
     "text": [
      "(5,)\n"
     ]
    }
   ],
   "source": [
    "print(a.shape)"
   ]
  },
  {
   "cell_type": "code",
   "execution_count": 6,
   "metadata": {},
   "outputs": [
    {
     "name": "stdout",
     "output_type": "stream",
     "text": [
      "[-1.08551172  0.40275348  1.0872583   1.52085771 -1.48642024]\n"
     ]
    }
   ],
   "source": [
    "print(a.T)"
   ]
  },
  {
   "cell_type": "code",
   "execution_count": 7,
   "metadata": {},
   "outputs": [
    {
     "data": {
      "text/plain": [
       "7.0451300043678735"
      ]
     },
     "execution_count": 7,
     "metadata": {},
     "output_type": "execute_result"
    }
   ],
   "source": [
    "np.dot(a,a.T)"
   ]
  },
  {
   "cell_type": "code",
   "execution_count": 8,
   "metadata": {},
   "outputs": [
    {
     "data": {
      "text/plain": [
       "7.0451300043678735"
      ]
     },
     "execution_count": 8,
     "metadata": {},
     "output_type": "execute_result"
    }
   ],
   "source": [
    "np.dot(a.T,a)"
   ]
  },
  {
   "cell_type": "code",
   "execution_count": 25,
   "metadata": {},
   "outputs": [
    {
     "name": "stdout",
     "output_type": "stream",
     "text": [
      "[[-3.59162898e-03 -3.16413495e-02  3.44925933e-02 -5.89759313e-02\n",
      "   6.84899898e-02]\n",
      " [ 5.62786805e-02  4.95801044e-01 -5.40478332e-01  9.24117612e-01\n",
      "  -1.07319722e+00]\n",
      " [-2.36881142e-02 -2.08686338e-01  2.27491340e-01 -3.88967959e-01\n",
      "   4.51716674e-01]\n",
      " [-1.10873442e-01 -9.76767188e-01  1.06478497e+00 -1.82058463e+00\n",
      "   2.11428323e+00]\n",
      " [ 1.13087812e-03  9.96275233e-03 -1.08605091e-02  1.85694544e-02\n",
      "  -2.15650981e-02]]\n"
     ]
    }
   ],
   "source": [
    "dotde = np.dot(d,e)\n",
    "print(dotde)"
   ]
  },
  {
   "cell_type": "code",
   "execution_count": 26,
   "metadata": {},
   "outputs": [
    {
     "name": "stdout",
     "output_type": "stream",
     "text": [
      "[[-1.12244897]]\n"
     ]
    }
   ],
   "source": [
    "doted = np.dot(e,d)\n",
    "print(doted)"
   ]
  },
  {
   "cell_type": "code",
   "execution_count": 30,
   "metadata": {},
   "outputs": [
    {
     "data": {
      "text/plain": [
       "array([[4, 1],\n",
       "       [1, 9]])"
      ]
     },
     "execution_count": 30,
     "metadata": {},
     "output_type": "execute_result"
    }
   ],
   "source": [
    "# Element-wise multiplication\n",
    "r = np.array([[2,1],[1,3]])\n",
    "r*r"
   ]
  },
  {
   "cell_type": "code",
   "execution_count": 32,
   "metadata": {},
   "outputs": [
    {
     "data": {
      "text/plain": [
       "array([[ 5,  5],\n",
       "       [ 5, 10]])"
      ]
     },
     "execution_count": 32,
     "metadata": {},
     "output_type": "execute_result"
    }
   ],
   "source": [
    "# Matrix multiplicatioin\n",
    "r = np.array([[2,1],[1,3]])\n",
    "np.dot(r,r)"
   ]
  },
  {
   "cell_type": "code",
   "execution_count": 41,
   "metadata": {},
   "outputs": [
    {
     "data": {
      "text/plain": [
       "array([[[-1.15969081,  2.19386055, -1.11469728, -1.3889408 ]],\n",
       "\n",
       "       [[ 0.71419594, -0.08090823, -1.05835103, -0.67727289]]])"
      ]
     },
     "execution_count": 41,
     "metadata": {},
     "output_type": "execute_result"
    }
   ],
   "source": [
    "x = np.random.randn(8,1)\n",
    "x.reshape(2,1,4)\n",
    "#x.reshape(-1,3)"
   ]
  },
  {
   "cell_type": "code",
   "execution_count": 49,
   "metadata": {},
   "outputs": [
    {
     "name": "stdout",
     "output_type": "stream",
     "text": [
      "[[-0.62627037 -1.04733564 -1.54567903]\n",
      " [-0.16191755 -1.65047294  0.08443062]\n",
      " [-1.18398804 -1.38032963  0.11216425]]\n",
      "[2 2 1]\n",
      "[[2]\n",
      " [2]\n",
      " [1]]\n",
      "[[-1.25254073 -2.09467128 -1.54567903]\n",
      " [-0.32383509 -3.30094589  0.08443062]\n",
      " [-2.36797609 -2.76065927  0.11216425]]\n"
     ]
    }
   ],
   "source": [
    "a1 = np.random.randn(3,3)\n",
    "print(a1)\n",
    "\n",
    "a2 = np.array([2,2,1])\n",
    "print(a2)\n",
    "\n",
    "a2n = a2.reshape(3,1)\n",
    "print(a2n)\n",
    "\n",
    "c1 = a1*a2\n",
    "print(c1)"
   ]
  },
  {
   "cell_type": "code",
   "execution_count": 52,
   "metadata": {},
   "outputs": [
    {
     "data": {
      "text/plain": [
       "(4, 3)"
      ]
     },
     "execution_count": 52,
     "metadata": {},
     "output_type": "execute_result"
    }
   ],
   "source": [
    "a = np.random.randn(4,3)\n",
    "b = np.random.randn(1,3)\n",
    "\n",
    "c = a*b\n",
    "c.shape"
   ]
  },
  {
   "cell_type": "code",
   "execution_count": 70,
   "metadata": {},
   "outputs": [
    {
     "name": "stdout",
     "output_type": "stream",
     "text": [
      "[[ 1  1]\n",
      " [ 1 -1]]\n",
      "[[2]\n",
      " [3]]\n",
      "[[3 3]\n",
      " [4 2]]\n"
     ]
    }
   ],
   "source": [
    "a = np.array([[1,1],[1,-1]])\n",
    "b = np.array([[2],[3]])\n",
    "\n",
    "print(a)\n",
    "print(b)\n",
    "print(a+b)"
   ]
  },
  {
   "cell_type": "code",
   "execution_count": 74,
   "metadata": {},
   "outputs": [],
   "source": [
    "a = np.random.randn(4,1)\n",
    "b = np.random.randn(4,1)\n",
    "\n",
    "abdot = a*b"
   ]
  },
  {
   "cell_type": "code",
   "execution_count": 94,
   "metadata": {},
   "outputs": [
    {
     "name": "stdout",
     "output_type": "stream",
     "text": [
      "[[1 2 3 4]]\n",
      "(4,)\n",
      "(4, 1)\n",
      "[ 1  4  9 16]\n",
      "[[4]\n",
      " [1]\n",
      " [2]\n",
      " [3]]\n",
      "[[1]\n",
      " [2]\n",
      " [3]\n",
      " [4]]\n",
      "4\n",
      "[[1]\n",
      " [2]\n",
      " [3]\n",
      " [4]]\n"
     ]
    }
   ],
   "source": [
    "a = np.array([1,2,3,4])\n",
    "ra = a.reshape(1,4)\n",
    "print(ra)\n",
    "print(a.shape)\n",
    "b = np.array([[4],[1],[2],[3]])\n",
    "print(b.shape)\n",
    "a2 = a*a\n",
    "\n",
    "print(a*a)\n",
    "print(b)\n",
    "print(a.reshape(-1,1))\n",
    "\n",
    "v = a.reshape(a.shape[0],1)\n",
    "\n",
    "print(a.shape[0])\n",
    "print(v)"
   ]
  },
  {
   "cell_type": "code",
   "execution_count": 98,
   "metadata": {},
   "outputs": [
    {
     "name": "stdout",
     "output_type": "stream",
     "text": [
      "(3, 3, 2)\n",
      "[[0.]\n",
      " [0.]]\n"
     ]
    }
   ],
   "source": [
    "a = np.array([[[ 0.67826139,  0.29380381],\n",
    "                     [ 0.90714982,  0.52835647],\n",
    "                     [ 0.4215251 ,  0.45017551]],\n",
    "\n",
    "                   [[ 0.92814219,  0.96677647],\n",
    "                    [ 0.85304703,  0.52351845],\n",
    "                    [ 0.19981397,  0.27417313]],\n",
    "\n",
    "                   [[ 0.60659855,  0.00533165],\n",
    "                    [ 0.10820313,  0.49978937],\n",
    "                    [ 0.34144279,  0.94630077]]])\n",
    "print(a.shape)\n",
    "\n",
    "print(np.zeros((2,1)))"
   ]
  },
  {
   "cell_type": "code",
   "execution_count": null,
   "metadata": {},
   "outputs": [],
   "source": []
  }
 ],
 "metadata": {
  "interpreter": {
   "hash": "916dbcbb3f70747c44a77c7bcd40155683ae19c65e1c03b4aa3499c5328201f1"
  },
  "kernelspec": {
   "display_name": "Python 3.8.10 64-bit",
   "language": "python",
   "name": "python3"
  },
  "language_info": {
   "codemirror_mode": {
    "name": "ipython",
    "version": 3
   },
   "file_extension": ".py",
   "mimetype": "text/x-python",
   "name": "python",
   "nbconvert_exporter": "python",
   "pygments_lexer": "ipython3",
   "version": "3.8.10"
  },
  "orig_nbformat": 4
 },
 "nbformat": 4,
 "nbformat_minor": 2
}
