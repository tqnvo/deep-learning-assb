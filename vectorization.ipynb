{
 "cells": [
  {
   "cell_type": "code",
   "execution_count": 1,
   "metadata": {},
   "outputs": [],
   "source": [
    "import numpy as np\n",
    "import time"
   ]
  },
  {
   "cell_type": "code",
   "execution_count": 2,
   "metadata": {},
   "outputs": [
    {
     "name": "stdout",
     "output_type": "stream",
     "text": [
      "[2 3 4 5 6]\n"
     ]
    }
   ],
   "source": [
    "a_array = np.array([2,3,4,5,6])\n",
    "print(a_array)"
   ]
  },
  {
   "cell_type": "code",
   "execution_count": 27,
   "metadata": {},
   "outputs": [
    {
     "name": "stdout",
     "output_type": "stream",
     "text": [
      "Vectorized value of ab reads: 249929.12 elapsed within 2.28 ms.\n"
     ]
    }
   ],
   "source": [
    "a = np.random.rand(1000000)\n",
    "b = np.random.rand(1000000)\n",
    "\n",
    "c = np.random.gamma(10)\n",
    "#print(c)\n",
    "\n",
    "tic = time.time()\n",
    "\n",
    "ab = np.dot(a,b)\n",
    "\n",
    "toc = time.time()\n",
    "\n",
    "print(\"Vectorized value of ab reads: \" + str(round(ab,2)) + \" elapsed within \" + str(round(1000*(toc-tic),2)) + \" ms.\")\n"
   ]
  },
  {
   "cell_type": "code",
   "execution_count": 28,
   "metadata": {},
   "outputs": [
    {
     "name": "stdout",
     "output_type": "stream",
     "text": [
      "Non-Vectorized value of ab reads: 249929.12 elapsed within 476.88 ms.\n"
     ]
    }
   ],
   "source": [
    "# Non-vectorized dot product with for-loop\n",
    "\n",
    "dotproduct = 0\n",
    "\n",
    "tic = time.time()\n",
    "\n",
    "for i in range(1000000):\n",
    "    dotproduct += a[i]*b[i]\n",
    "    \n",
    "toc = time.time()\n",
    "\n",
    "print(\"Non-Vectorized value of ab reads: \" \n",
    "      + str(round(dotproduct,2)) \n",
    "      + \" elapsed within \" \n",
    "      + str(round(1000*(toc-tic),2)) \n",
    "      + \" ms.\")"
   ]
  },
  {
   "cell_type": "code",
   "execution_count": null,
   "metadata": {},
   "outputs": [],
   "source": []
  }
 ],
 "metadata": {
  "interpreter": {
   "hash": "916dbcbb3f70747c44a77c7bcd40155683ae19c65e1c03b4aa3499c5328201f1"
  },
  "kernelspec": {
   "display_name": "Python 3.8.10 64-bit",
   "language": "python",
   "name": "python3"
  },
  "language_info": {
   "codemirror_mode": {
    "name": "ipython",
    "version": 3
   },
   "file_extension": ".py",
   "mimetype": "text/x-python",
   "name": "python",
   "nbconvert_exporter": "python",
   "pygments_lexer": "ipython3",
   "version": "3.8.10"
  },
  "orig_nbformat": 4
 },
 "nbformat": 4,
 "nbformat_minor": 2
}
